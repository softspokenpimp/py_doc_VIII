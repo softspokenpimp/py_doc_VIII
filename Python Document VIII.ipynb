{
 "cells": [
  {
   "cell_type": "markdown",
   "metadata": {},
   "source": [
    "# Time/Space Complexity - Intro to Data Structures (User Defined)\n",
    "\n",
    "### Topics to discuss today:\n",
    "\n",
    "<ul>\n",
    "    <li>Time and Space Complexity - What is it/How do we measure it</li>\n",
    "    <li>Asymptotic Analysis</li>\n",
    "    <li><strong>Data Structures</strong></li>\n",
    "    <li>Some of the popular sorting algorithms</li>\n",
    "</ul>\n",
    "\n",
    "### Data Structures to discuss:\n",
    "- Arrays\n",
    "- Stacks\n",
    "- Queues\n",
    "- Linked Lists\n",
    "    - Singly Linked Lists\n",
    "    - Traversing A Linked List\n",
    "    - Finding a node in a linked list\n",
    "    - Adding to a linked list\n"
   ]
  },
  {
   "cell_type": "markdown",
   "metadata": {},
   "source": [
    "## Time and Space Complexity\n",
    "\n",
    "#### What is it?\n",
    "\n",
    "Time and space complexity is the measure of how much time a given action(function) will take to solve a problem. In the same fashion, we determine how much a given data structure will need in terms of memory allocation. A problem can have multiple solutions and finding the optimal solution for the problem needs to be analyzed in time and space.\n",
    "\n",
    "#### How do we measure Time and Space Complexity?\n",
    "\n",
    "In order to measure time and space complexity we use Asymptotic analysis. The reason for this is because we need a way to measure different algorithms (functions) based on the size of their inputs in a mathmatical way. For example, we could have a function that is computed as f(n) and another that is g(n^2). All things around the function staying constant, the only thing that changes is the size of the input. Below is the chart that shows the different Asymptotic analysis formats. "
   ]
  },
  {
   "cell_type": "markdown",
   "metadata": {},
   "source": [
    "<table style=\"text-align:center;\" class=\"table table-bordered\">\n",
    "<tbody><tr>\n",
    "<td>constant</td>\n",
    "<td>−</td>\n",
    "<td>Ο(1)</td>\n",
    "</tr>\n",
    "<tr>\n",
    "<td>logarithmic</td>\n",
    "<td>−</td>\n",
    "<td>Ο(log n)</td>\n",
    "</tr>\n",
    "<tr>\n",
    "<td>linear</td>\n",
    "<td>−</td>\n",
    "<td>Ο(n)</td>\n",
    "</tr>\n",
    "<tr>\n",
    "<td>Linear Logarithmic</td>\n",
    "<td>−</td>\n",
    "<td>Ο(n log n)</td>\n",
    "</tr>\n",
    "<tr>\n",
    "<td>quadratic</td>\n",
    "<td>−</td>\n",
    "<td>Ο(n<sup>2</sup>)</td>\n",
    "</tr>\n",
    "<tr>\n",
    "<td>cubic</td>\n",
    "<td>−</td>\n",
    "<td>Ο(n<sup>3</sup>)</td>\n",
    "</tr>\n",
    "<tr>\n",
    "<td>polynomial</td>\n",
    "<td>−</td>\n",
    "<td>n<sup>Ο(1)</sup></td>\n",
    "</tr>\n",
    "<tr>\n",
    "<td>exponential</td>\n",
    "<td>−</td>\n",
    "<td>2<sup>Ο(n)</sup></td>\n",
    "</tr>\n",
    "</tbody></table>"
   ]
  },
  {
   "cell_type": "markdown",
   "metadata": {},
   "source": [
    "## Arrays"
   ]
  },
  {
   "cell_type": "markdown",
   "metadata": {},
   "source": [
    "In python we benefit from the dynamic array which means the block of memory will expand as needed for the given input to the array. In traditional arrays (depending on the type of operating system) we will usually store our inputs in 4 or 8 consecutive blocks of memory. Below is a diagram of how that looks under the hood:\n",
    "\n",
    "<img src=\"https://4.bp.blogspot.com/--bQTKh7odUk/XLfcLfuvi3I/AAAAAAAANy0/p4m4raBVHk4DoHFQXf2HMFr3ceNrU4ExACLcBGAs/s400/array%2Bdata%2Bstructure%2Bin%2BJava.png\" style=\"height:400px; \">"
   ]
  },
  {
   "cell_type": "markdown",
   "metadata": {},
   "source": [
    "## Which in python looks like this:"
   ]
  },
  {
   "cell_type": "code",
   "execution_count": null,
   "metadata": {},
   "outputs": [],
   "source": [
    "lst = [23, 4, 6, 15, 5, 7]"
   ]
  },
  {
   "cell_type": "markdown",
   "metadata": {},
   "source": [
    "### Let's take a look at some of the time and space analysis of arrays"
   ]
  },
  {
   "cell_type": "code",
   "execution_count": null,
   "metadata": {},
   "outputs": [],
   "source": [
    "# index an array (list)\n",
    "# constant time and space = O(1)\n",
    "indexing = lst[3] #this is O(1)\n",
    "\n",
    "#searching through an array \n",
    "#Linear time - Depents on how long the list is! O(n)\n",
    "#Constant space - O(1)\n",
    "for i in lst:\n",
    "    print(i)\n",
    "    \n",
    "#Coping an array \n",
    "#linear time - O(n) time...\n",
    "#linear space - O(n)\n",
    "lst_copy = lst[:]"
   ]
  },
  {
   "cell_type": "markdown",
   "metadata": {},
   "source": [
    "## Stacks and Queues\n",
    "\n",
    "** Stacks ** as the name suggests is a data structure that allows for data to follow the Last In First Out principle(LIFO). Think of a stack of pancakes for example. To get the first pancake you would  start with the top and go down.\n",
    "\n",
    "##### Searching through a stack will be Linear Time O(n) - Constant Space O(1)\n",
    "##### Selecting the last item will be done in Constant Time O(1) - Constant Space O(1)\n",
    "##### Adding to the stack should take Constant Time O(1) - Constant Space O(1)\n",
    "\n",
    "** Queues ** are similar but in this case follow the First In First Out principle(FIFO). Think of this as a line in a black friday sale. The first person camped out for the big screen tv is the first to get it.\n",
    "\n",
    "##### Searching through a queue will be Linear Time O(n) - Constant Space O(1)\n",
    "##### Selecting the first item will be done in Constant Time O(1) - Constant Space O(1)\n",
    "##### Adding to the queue should take Constant Time O(1) - Constant Space O(1)"
   ]
  },
  {
   "cell_type": "code",
   "execution_count": 3,
   "metadata": {},
   "outputs": [
    {
     "name": "stdout",
     "output_type": "stream",
     "text": [
      "30\n",
      "10\n",
      "20\n",
      "1\n",
      "2\n",
      "3\n"
     ]
    }
   ],
   "source": [
    "stack = []\n",
    "\n",
    "stack.append(10)\n",
    "stack.append(20)\n",
    "stack.append(30)\n",
    "\n",
    "# Accessing the last value which is sitting on top of the stack...\n",
    "#Constant time and space - O(1)\n",
    "last_item = stack.pop()\n",
    "print(last_item)\n",
    "\n",
    "#Searching stack will be linear time - O(n)\n",
    "for i in stack: \n",
    "    print(i)\n",
    "\n",
    "######################################################################\n",
    "\n",
    "queue = []\n",
    "\n",
    "queue.append(1)\n",
    "queue.append(2)\n",
    "queue.append(3)\n",
    "\n",
    "# Accessing the first value (This will be in front of the queue\n",
    "#Constant time and constant space\n",
    "first_item = queue.pop(0)\n",
    "print(first_item)\n",
    "\n",
    "#Searching the queue will be linear time and constant space\n",
    "for i in queue:\n",
    "    print(i)\n"
   ]
  },
  {
   "cell_type": "markdown",
   "metadata": {},
   "source": [
    "## Linked List (Data Structure)\n",
    "\n",
    "A linked list is created by using the node class. We create a Node object and create another class to use this node object. We pass the appropriate values thorugh the node object to point the to the next data elements.\n",
    "\n",
    "There are some advantages and disadvantages with this data structure. **Advantages** Linked Lists can save memory because they can be flexibile with memory management which saves memory. **Disadvantages** Finding or adding to the list requires traversing the entire list.\n",
    "\n",
    "<img src=\"https://i.stack.imgur.com/B2Q7K.png\" style=\"height:700px; \">"
   ]
  },
  {
   "cell_type": "code",
   "execution_count": 6,
   "metadata": {},
   "outputs": [
    {
     "name": "stdout",
     "output_type": "stream",
     "text": [
      "Mon\n",
      "Tues\n",
      "Wed\n",
      "None\n"
     ]
    }
   ],
   "source": [
    "#Shoha's linked list:\n",
    "\n",
    "class LinkedListNode():\n",
    "    def __init__(self, value):\n",
    "        self.value = value \n",
    "        self.next = None\n",
    "        \n",
    "    def tranverseList(self):\n",
    "        node = self\n",
    "        while node!= None:\n",
    "            print(node.value)\n",
    "            node = node.next\n",
    "            \n",
    "node1 = LinkedListNode(\"Mon\")\n",
    "node2 = LinkedListNode(\"Tues\")\n",
    "node3 = LinkedListNode(\"Wed\")\n",
    "\n",
    "node1.next = node2\n",
    "node2.next = node3\n",
    "\n",
    "print(node1.tranverseList())"
   ]
  },
  {
   "cell_type": "code",
   "execution_count": 13,
   "metadata": {},
   "outputs": [
    {
     "name": "stdout",
     "output_type": "stream",
     "text": [
      "Mon\n",
      "Tues\n",
      "Wed\n",
      "Thurs\n"
     ]
    }
   ],
   "source": [
    "#A complete implementation of a linked list\n",
    "#2 components to this solution - Node class, and a LinkedList class\n",
    "\n",
    "class Node():\n",
    "    def __init__(self, value):\n",
    "        self.value = value \n",
    "        self.next = None\n",
    "        \n",
    "class LinkedList():\n",
    "    def  __init__(self):\n",
    "        self.head = None\n",
    "        \n",
    "    def pushOn(self, new_value):\n",
    "        new_node = Node(new_value)\n",
    "        new_node.next = self.head\n",
    "        self.head = new_node\n",
    "    \n",
    "    def insertAfter(self, prev_node, new_value):\n",
    "        #Check to see if the prev node even exists\n",
    "        if prev_node is None:\n",
    "            print(\"The given previous node must not be empty!\") # telling, NOT stating\n",
    "            return \n",
    "        #if the node is not empty then create a new node \n",
    "        new_node = Node(new_value)\n",
    "        \n",
    "        #Update the previouse nodes' next pointer to point to the new value\n",
    "        new_node.next = prev_node.next\n",
    "        \n",
    "        #Update the previous note to point to the new node's value\n",
    "        prev_node.next = new_node\n",
    "        \n",
    "    #this method will append a new node to the END of the linked list \n",
    "    def append(self, new_value):\n",
    "        #create new node with a new value \n",
    "        new_node = Node(new_value)\n",
    "        \n",
    "        #Check if the LinkedList is empty\n",
    "        #if it is, we will make this the new head node (aka beginning of the list)\n",
    "        if self.head is None:\n",
    "            self.head = new_node\n",
    "            \n",
    "        #But if the list is Not empty - traverse to the end \n",
    "        #and add the new value to the end og the list \n",
    "        \n",
    "        last = self.head \n",
    "        \n",
    "        #While last.next is not None... continue to loop ubtil we find a none value \n",
    "        while(last.next):\n",
    "            last = last.next\n",
    "        \n",
    "        #Change the current last node value to point to the NEW value\n",
    "        last.next = new_node\n",
    "        \n",
    "    def traverse(self):\n",
    "        temp = self.head\n",
    "        #While the temp is NOT none - keep looping through the links until you reach a none value\n",
    "        while(temp):\n",
    "            print(temp.value)\n",
    "            temp = temp.next\n",
    "            \n",
    "weekdays_links = LinkedList()\n",
    "\n",
    "#Insert a new day into the list \n",
    "weekdays_links.pushOn(\"Mon\")\n",
    "weekdays_links.append(\"Tues\")\n",
    "weekdays_links.append(\"Thurs\")\n",
    "weekdays_links.insertAfter(weekdays_links.head.next, \"Wed\")\n",
    "weekdays_links.traverse()\n"
   ]
  },
  {
   "cell_type": "code",
   "execution_count": 14,
   "metadata": {},
   "outputs": [
    {
     "ename": "SyntaxError",
     "evalue": "invalid syntax (2963723565.py, line 1)",
     "output_type": "error",
     "traceback": [
      "\u001b[1;36m  Input \u001b[1;32mIn [14]\u001b[1;36m\u001b[0m\n\u001b[1;33m    https://pythontutor.com/iframe-embed.html#code=%23A%20complete%20implementation%20of%20a%20linked%20list%0A%232%20components%20to%20this%20solution%20-%20Node%20class,%20and%20a%20LinkedList%20class%0A%0Aclass%20Node%28%29%3A%0A%20%20%20%20def%20__init__%28self,%20value%29%3A%0A%20%20%20%20%20%20%20%20self.value%20%3D%20value%20%0A%20%20%20%20%20%20%20%20self.next%20%3D%20None%0A%20%20%20%20%20%20%20%20%0Aclass%20LinkedList%28%29%3A%0A%20%20%20%20def%20%20__init__%28self%29%3A%0A%20%20%20%20%20%20%20%20self.head%20%3D%20None%0A%20%20%20%20%20%20%20%20%0A%20%20%20%20def%20pushOn%28self,%20new_value%29%3A%0A%20%20%20%20%20%20%20%20new_node%20%3D%20Node%28new_value%29%0A%20%20%20%20%20%20%20%20new_node.next%20%3D%20self.head%0A%20%20%20%20%20%20%20%20self.head%20%3D%20new_node%0A%20%20%20%20%0A%20%20%20%20def%20insertAfter%28self,%20prev_node,%20new_value%29%3A%0A%20%20%20%20%20%20%20%20%23Check%20to%20see%20if%20the%20prev%20node%20even%20exists%0A%20%20%20%20%20%20%20%20if%20prev_node%20is%20None%3A%0A%20%20%20%20%20%20%20%20%20%20%20%20print%28%22The%20given%20previous%20node%20must%20not%20be%20empty!%22%29%20%23%20telling,%20NOT%20stating%0A%20%20%20%20%20%20%20%20%20%20%20%20return%20%0A%20%20%20%20%20%20%20%20%23if%20the%20node%20is%20not%20empty%20then%20create%20a%20new%20node%20%0A%20%20%20%20%20%20%20%20new_node%20%3D%20Node%28new_value%29%0A%20%20%20%20%20%20%20%20%0A%20%20%20%20%20%20%20%20%23Update%20the%20previouse%20nodes'%20next%20pointer%20to%20point%20to%20the%20new%20value%0A%20%20%20%20%20%20%20%20new_node.next%20%3D%20prev_node.next%0A%20%20%20%20%20%20%20%20%0A%20%20%20%20%20%20%20%20%23Update%20the%20previous%20note%20to%20point%20to%20the%20new%20node's%20value%0A%20%20%20%20%20%20%20%20prev_node.next%20%3D%20new_node%0A%20%20%20%20%20%20%20%20%0A%20%20%20%20%23this%20method%20will%20append%20a%20new%20node%20to%20the%20END%20of%20the%20linked%20list%20%0A%20%20%20%20def%20append%28self,%20new_value%29%3A%0A%20%20%20%20%20%20%20%20%23create%20new%20node%20with%20a%20new%20value%20%0A%20%20%20%20%20%20%20%20new_node%20%3D%20Node%28new_value%29%0A%20%20%20%20%20%20%20%20%0A%20%20%20%20%20%20%20%20%23Check%20if%20the%20LinkedList%20is%20empty%0A%20%20%20%20%20%20%20%20%23if%20it%20is,%20we%20will%20make%20this%20the%20new%20head%20node%20%28aka%20beginning%20of%20the%20list%29%0A%20%20%20%20%20%20%20%20if%20self.head%20is%20None%3A%0A%20%20%20%20%20%20%20%20%20%20%20%20self.head%20%3D%20new_node%0A%20%20%20%20%20%20%20%20%20%20%20%20%0A%20%20%20%20%20%20%20%20%23But%20if%20the%20list%20is%20Not%20empty%20-%20traverse%20to%20the%20end%20%0A%20%20%20%20%20%20%20%20%23and%20add%20the%20new%20value%20to%20the%20end%20og%20the%20list%20%0A%20%20%20%20%20%20%20%20%0A%20%20%20%20%20%20%20%20last%20%3D%20self.head%20%0A%20%20%20%20%20%20%20%20%0A%20%20%20%20%20%20%20%20%23While%20last.next%20is%20not%20None...%20continue%20to%20loop%20ubtil%20we%20find%20a%20none%20value%20%0A%20%20%20%20%20%20%20%20while%28last.next%29%3A%0A%20%20%20%20%20%20%20%20%20%20%20%20last%20%3D%20last.next%0A%20%20%20%20%20%20%20%20%0A%20%20%20%20%20%20%20%20%23Change%20the%20current%20last%20node%20value%20to%20point%20to%20the%20NEW%20value%0A%20%20%20%20%20%20%20%20last.next%20%3D%20new_node%0A%20%20%20%20%20%20%20%20%0A%20%20%20%20def%20traverse%28self%29%3A%0A%20%20%20%20%20%20%20%20temp%20%3D%20self.head%0A%20%20%20%20%20%20%20%20%23While%20the%20temp%20is%20NOT%20none%20-%20keep%20looping%20through%20the%20links%20until%20you%20reach%20a%20none%20value%0A%20%20%20%20%20%20%20%20while%28temp%29%3A%0A%20%20%20%20%20%20%20%20%20%20%20%20print%28temp.value%29%0A%20%20%20%20%20%20%20%20%20%20%20%20temp%20%3D%20temp.next%0A%20%20%20%20%20%20%20%20%20%20%20%20%0Aweekdays_links%20%3D%20LinkedList%28%29%0A%0A%23Insert%20a%20new%20day%20into%20the%20list%20%0Aweekdays_links.pushOn%28%22Mon%22%29%0Aweekdays_links.append%28%22Tues%22%29%0Aweekdays_links.append%28%22Thurs%22%29%0Aweekdays_links.insertAfter%28weekdays_links.head.next,%20%22Wed%22%29%0Aweekdays_links.traverse%28%29&codeDivHeight=400&codeDivWidth=350&cumulative=false&curInstr=70&heapPrimitives=nevernest&origin=opt-frontend.js&py=3&rawInputLstJSON=%5B%5D&textReferences=false\"\u001b[0m\n\u001b[1;37m          ^\u001b[0m\n\u001b[1;31mSyntaxError\u001b[0m\u001b[1;31m:\u001b[0m invalid syntax\n"
     ]
    }
   ],
   "source": [
    "https://pythontutor.com/iframe-embed.html#code=%23A%20complete%20implementation%20of%20a%20linked%20list%0A%232%20components%20to%20this%20solution%20-%20Node%20class,%20and%20a%20LinkedList%20class%0A%0Aclass%20Node%28%29%3A%0A%20%20%20%20def%20__init__%28self,%20value%29%3A%0A%20%20%20%20%20%20%20%20self.value%20%3D%20value%20%0A%20%20%20%20%20%20%20%20self.next%20%3D%20None%0A%20%20%20%20%20%20%20%20%0Aclass%20LinkedList%28%29%3A%0A%20%20%20%20def%20%20__init__%28self%29%3A%0A%20%20%20%20%20%20%20%20self.head%20%3D%20None%0A%20%20%20%20%20%20%20%20%0A%20%20%20%20def%20pushOn%28self,%20new_value%29%3A%0A%20%20%20%20%20%20%20%20new_node%20%3D%20Node%28new_value%29%0A%20%20%20%20%20%20%20%20new_node.next%20%3D%20self.head%0A%20%20%20%20%20%20%20%20self.head%20%3D%20new_node%0A%20%20%20%20%0A%20%20%20%20def%20insertAfter%28self,%20prev_node,%20new_value%29%3A%0A%20%20%20%20%20%20%20%20%23Check%20to%20see%20if%20the%20prev%20node%20even%20exists%0A%20%20%20%20%20%20%20%20if%20prev_node%20is%20None%3A%0A%20%20%20%20%20%20%20%20%20%20%20%20print%28%22The%20given%20previous%20node%20must%20not%20be%20empty!%22%29%20%23%20telling,%20NOT%20stating%0A%20%20%20%20%20%20%20%20%20%20%20%20return%20%0A%20%20%20%20%20%20%20%20%23if%20the%20node%20is%20not%20empty%20then%20create%20a%20new%20node%20%0A%20%20%20%20%20%20%20%20new_node%20%3D%20Node%28new_value%29%0A%20%20%20%20%20%20%20%20%0A%20%20%20%20%20%20%20%20%23Update%20the%20previouse%20nodes'%20next%20pointer%20to%20point%20to%20the%20new%20value%0A%20%20%20%20%20%20%20%20new_node.next%20%3D%20prev_node.next%0A%20%20%20%20%20%20%20%20%0A%20%20%20%20%20%20%20%20%23Update%20the%20previous%20note%20to%20point%20to%20the%20new%20node's%20value%0A%20%20%20%20%20%20%20%20prev_node.next%20%3D%20new_node%0A%20%20%20%20%20%20%20%20%0A%20%20%20%20%23this%20method%20will%20append%20a%20new%20node%20to%20the%20END%20of%20the%20linked%20list%20%0A%20%20%20%20def%20append%28self,%20new_value%29%3A%0A%20%20%20%20%20%20%20%20%23create%20new%20node%20with%20a%20new%20value%20%0A%20%20%20%20%20%20%20%20new_node%20%3D%20Node%28new_value%29%0A%20%20%20%20%20%20%20%20%0A%20%20%20%20%20%20%20%20%23Check%20if%20the%20LinkedList%20is%20empty%0A%20%20%20%20%20%20%20%20%23if%20it%20is,%20we%20will%20make%20this%20the%20new%20head%20node%20%28aka%20beginning%20of%20the%20list%29%0A%20%20%20%20%20%20%20%20if%20self.head%20is%20None%3A%0A%20%20%20%20%20%20%20%20%20%20%20%20self.head%20%3D%20new_node%0A%20%20%20%20%20%20%20%20%20%20%20%20%0A%20%20%20%20%20%20%20%20%23But%20if%20the%20list%20is%20Not%20empty%20-%20traverse%20to%20the%20end%20%0A%20%20%20%20%20%20%20%20%23and%20add%20the%20new%20value%20to%20the%20end%20og%20the%20list%20%0A%20%20%20%20%20%20%20%20%0A%20%20%20%20%20%20%20%20last%20%3D%20self.head%20%0A%20%20%20%20%20%20%20%20%0A%20%20%20%20%20%20%20%20%23While%20last.next%20is%20not%20None...%20continue%20to%20loop%20ubtil%20we%20find%20a%20none%20value%20%0A%20%20%20%20%20%20%20%20while%28last.next%29%3A%0A%20%20%20%20%20%20%20%20%20%20%20%20last%20%3D%20last.next%0A%20%20%20%20%20%20%20%20%0A%20%20%20%20%20%20%20%20%23Change%20the%20current%20last%20node%20value%20to%20point%20to%20the%20NEW%20value%0A%20%20%20%20%20%20%20%20last.next%20%3D%20new_node%0A%20%20%20%20%20%20%20%20%0A%20%20%20%20def%20traverse%28self%29%3A%0A%20%20%20%20%20%20%20%20temp%20%3D%20self.head%0A%20%20%20%20%20%20%20%20%23While%20the%20temp%20is%20NOT%20none%20-%20keep%20looping%20through%20the%20links%20until%20you%20reach%20a%20none%20value%0A%20%20%20%20%20%20%20%20while%28temp%29%3A%0A%20%20%20%20%20%20%20%20%20%20%20%20print%28temp.value%29%0A%20%20%20%20%20%20%20%20%20%20%20%20temp%20%3D%20temp.next%0A%20%20%20%20%20%20%20%20%20%20%20%20%0Aweekdays_links%20%3D%20LinkedList%28%29%0A%0A%23Insert%20a%20new%20day%20into%20the%20list%20%0Aweekdays_links.pushOn%28%22Mon%22%29%0Aweekdays_links.append%28%22Tues%22%29%0Aweekdays_links.append%28%22Thurs%22%29%0Aweekdays_links.insertAfter%28weekdays_links.head.next,%20%22Wed%22%29%0Aweekdays_links.traverse%28%29&codeDivHeight=400&codeDivWidth=350&cumulative=false&curInstr=70&heapPrimitives=nevernest&origin=opt-frontend.js&py=3&rawInputLstJSON=%5B%5D&textReferences=false\""
   ]
  },
  {
   "cell_type": "code",
   "execution_count": null,
   "metadata": {},
   "outputs": [],
   "source": []
  },
  {
   "cell_type": "code",
   "execution_count": null,
   "metadata": {},
   "outputs": [],
   "source": []
  }
 ],
 "metadata": {
  "kernelspec": {
   "display_name": "Python 3 (ipykernel)",
   "language": "python",
   "name": "python3"
  },
  "language_info": {
   "codemirror_mode": {
    "name": "ipython",
    "version": 3
   },
   "file_extension": ".py",
   "mimetype": "text/x-python",
   "name": "python",
   "nbconvert_exporter": "python",
   "pygments_lexer": "ipython3",
   "version": "3.9.12"
  }
 },
 "nbformat": 4,
 "nbformat_minor": 2
}
